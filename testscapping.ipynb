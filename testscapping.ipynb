{
 "metadata": {
  "language_info": {
   "codemirror_mode": {
    "name": "ipython",
    "version": 3
   },
   "file_extension": ".py",
   "mimetype": "text/x-python",
   "name": "python",
   "nbconvert_exporter": "python",
   "pygments_lexer": "ipython3",
   "version": "3.7.10-final"
  },
  "orig_nbformat": 2,
  "kernelspec": {
   "name": "python3",
   "display_name": "Python 3.7.10 64-bit ('web': conda)",
   "metadata": {
    "interpreter": {
     "hash": "c1ded5aaa83300d7486363dd99728efce78fac3dedf504cfd9d14def33946d1e"
    }
   }
  }
 },
 "nbformat": 4,
 "nbformat_minor": 2,
 "cells": [
  {
   "cell_type": "code",
   "execution_count": 1,
   "metadata": {},
   "outputs": [],
   "source": [
    "import requests\n",
    "import json\n",
    "from bs4 import BeautifulSoup\n",
    "import re"
   ]
  },
  {
   "cell_type": "code",
   "execution_count": 134,
   "metadata": {},
   "outputs": [
    {
     "output_type": "stream",
     "name": "stdout",
     "text": [
      "page 1 status <Response [200]>\n",
      "page 1 status <Response [200]>\n",
      "SMOKIN’PARADEสโมกกิ้งพาเหรด\n",
      "SMOKIN’PARADEสโมกกิ้งพาเหรด\n",
      "SMOKIN’PARADEสโมกกิ้งพาเหรด\n",
      "SMOKIN’PARADEสโมกกิ้งพาเหรด\n",
      "SMOKIN’PARADEสโมกกิ้งพาเหรด\n",
      "SMOKIN’PARADEสโมกกิ้งพาเหรด\n",
      "SMOKIN’PARADEสโมกกิ้งพาเหรด\n",
      "SMOKIN’PARADEสโมกกิ้งพาเหรด\n",
      "SMOKIN’PARADEสโมกกิ้งพาเหรด\n",
      "SMOKIN’PARADEสโมกกิ้งพาเหรด\n",
      "SMOKIN’PARADEสโมกกิ้งพาเหรด\n",
      "SMOKIN’PARADEสโมกกิ้งพาเหรด\n",
      "SMOKIN’PARADEสโมกกิ้งพาเหรด\n",
      "SMOKIN’PARADEสโมกกิ้งพาเหรด\n",
      "SMOKIN’PARADEสโมกกิ้งพาเหรด\n",
      "SMOKIN’PARADEสโมกกิ้งพาเหรด\n",
      "SMOKIN’PARADEสโมกกิ้งพาเหรด\n",
      "SMOKIN’PARADEสโมกกิ้งพาเหรด\n",
      "SMOKIN’PARADEสโมกกิ้งพาเหรด\n",
      "SMOKIN’PARADEสโมกกิ้งพาเหรด\n",
      "SMOKIN’PARADEสโมกกิ้งพาเหรด\n",
      "SMOKIN’PARADEสโมกกิ้งพาเหรด\n",
      "SMOKIN’PARADEสโมกกิ้งพาเหรด\n",
      "SMOKIN’PARADEสโมกกิ้งพาเหรด\n",
      "SMOKIN’PARADEสโมกกิ้งพาเหรด\n",
      "SMOKIN’PARADEสโมกกิ้งพาเหรด\n",
      "SMOKIN’PARADEสโมกกิ้งพาเหรด\n",
      "SMOKIN’PARADEสโมกกิ้งพาเหรด\n",
      "SMOKIN’PARADEสโมกกิ้งพาเหรด\n",
      "SMOKIN’PARADEสโมกกิ้งพาเหรด\n",
      "SMOKIN’PARADEสโมกกิ้งพาเหรด\n",
      "SMOKIN’PARADEสโมกกิ้งพาเหรด\n",
      "SMOKIN’PARADEสโมกกิ้งพาเหรด\n",
      "SMOKIN’PARADEสโมกกิ้งพาเหรด\n",
      "SMOKIN’PARADEสโมกกิ้งพาเหรด\n",
      "SMOKIN’PARADEสโมกกิ้งพาเหรด\n",
      "SMOKIN’PARADEสโมกกิ้งพาเหรด\n",
      "SMOKIN’PARADEสโมกกิ้งพาเหรด\n",
      "SMOKIN’PARADEสโมกกิ้งพาเหรด\n",
      "SMOKIN’PARADEสโมกกิ้งพาเหรด\n",
      "SMOKIN’PARADEสโมกกิ้งพาเหรด\n",
      "SMOKIN’PARADEสโมกกิ้งพาเหรด\n",
      "SMOKIN’PARADEสโมกกิ้งพาเหรด\n",
      "SMOKIN’PARADEสโมกกิ้งพาเหรด\n",
      "SMOKIN’PARADEสโมกกิ้งพาเหรด\n",
      "SMOKIN’PARADEสโมกกิ้งพาเหรด\n",
      "SMOKIN’PARADEสโมกกิ้งพาเหรด\n",
      "SMOKIN’PARADEสโมกกิ้งพาเหรด\n",
      "SMOKIN’PARADEสโมกกิ้งพาเหรด\n",
      "SMOKIN’PARADEสโมกกิ้งพาเหรด\n",
      "SMOKIN’PARADEสโมกกิ้งพาเหรด\n",
      "SMOKIN’PARADEสโมกกิ้งพาเหรด\n",
      "SMOKIN’PARADEสโมกกิ้งพาเหรด\n",
      "SMOKIN’PARADEสโมกกิ้งพาเหรด\n",
      "SMOKIN’PARADEสโมกกิ้งพาเหรด\n",
      "SMOKIN’PARADEสโมกกิ้งพาเหรด\n",
      "SMOKIN’PARADEสโมกกิ้งพาเหรด\n",
      "SMOKIN’PARADEสโมกกิ้งพาเหรด\n",
      "SMOKIN’PARADEสโมกกิ้งพาเหรด\n",
      "SMOKIN’PARADEสโมกกิ้งพาเหรด\n",
      "SMOKIN’PARADEสโมกกิ้งพาเหรด\n",
      "SMOKIN’PARADEสโมกกิ้งพาเหรด\n",
      "SMOKIN’PARADEสโมกกิ้งพาเหรด\n",
      "SMOKIN’PARADEสโมกกิ้งพาเหรด\n",
      "SMOKIN’PARADEสโมกกิ้งพาเหรด\n",
      "SMOKIN’PARADEสโมกกิ้งพาเหรด\n",
      "SMOKIN’PARADEสโมกกิ้งพาเหรด\n",
      "SMOKIN’PARADEสโมกกิ้งพาเหรด\n",
      "SMOKIN’PARADEสโมกกิ้งพาเหรด\n",
      "SMOKIN’PARADEสโมกกิ้งพาเหรด\n",
      "SMOKIN’PARADEสโมกกิ้งพาเหรด\n",
      "SMOKIN’PARADEสโมกกิ้งพาเหรด\n",
      "SMOKIN’PARADEสโมกกิ้งพาเหรด\n",
      "SMOKIN’PARADEสโมกกิ้งพาเหรด\n",
      "SMOKIN’PARADEสโมกกิ้งพาเหรด\n",
      "SMOKIN’PARADEสโมกกิ้งพาเหรด\n",
      "SMOKIN’PARADEสโมกกิ้งพาเหรด\n",
      "SMOKIN’PARADEสโมกกิ้งพาเหรด\n",
      "SMOKIN’PARADEสโมกกิ้งพาเหรด\n",
      "SMOKIN’PARADEสโมกกิ้งพาเหรด\n",
      "{'(MG)': {}}\n"
     ]
    },
    {
     "output_type": "error",
     "ename": "KeyError",
     "evalue": "'86 -เอทตี้ซิกซ์-'",
     "traceback": [
      "\u001b[1;31m---------------------------------------------------------------------------\u001b[0m",
      "\u001b[1;31mKeyError\u001b[0m                                  Traceback (most recent call last)",
      "\u001b[1;32m<ipython-input-134-c7c069671745>\u001b[0m in \u001b[0;36m<module>\u001b[1;34m\u001b[0m\n\u001b[0;32m     46\u001b[0m \u001b[1;33m\u001b[0m\u001b[0m\n\u001b[0;32m     47\u001b[0m         \u001b[0mprint\u001b[0m\u001b[1;33m(\u001b[0m\u001b[0mdict_item\u001b[0m\u001b[1;33m)\u001b[0m\u001b[1;33m\u001b[0m\u001b[1;33m\u001b[0m\u001b[0m\n\u001b[1;32m---> 48\u001b[1;33m         \u001b[1;32mif\u001b[0m \u001b[0mbook\u001b[0m \u001b[1;32mnot\u001b[0m \u001b[1;32min\u001b[0m \u001b[0mdict_item\u001b[0m\u001b[1;33m[\u001b[0m\u001b[0mtype_item\u001b[0m\u001b[1;33m]\u001b[0m\u001b[1;33m[\u001b[0m\u001b[0mname_list\u001b[0m\u001b[1;33m[\u001b[0m\u001b[0mrem_idx\u001b[0m\u001b[1;33m]\u001b[0m\u001b[1;33m]\u001b[0m \u001b[1;33m:\u001b[0m\u001b[1;33m\u001b[0m\u001b[1;33m\u001b[0m\u001b[0m\n\u001b[0m\u001b[0;32m     49\u001b[0m             \u001b[0mdict_item\u001b[0m\u001b[1;33m[\u001b[0m\u001b[0mtype_item\u001b[0m\u001b[1;33m]\u001b[0m\u001b[1;33m[\u001b[0m\u001b[0mname_list\u001b[0m\u001b[1;33m[\u001b[0m\u001b[0mrem_idx\u001b[0m\u001b[1;33m]\u001b[0m\u001b[1;33m]\u001b[0m\u001b[1;33m[\u001b[0m\u001b[0mnum_book\u001b[0m\u001b[1;33m]\u001b[0m \u001b[1;33m=\u001b[0m \u001b[0mlink\u001b[0m\u001b[1;33m\u001b[0m\u001b[1;33m\u001b[0m\u001b[0m\n\u001b[0;32m     50\u001b[0m \u001b[1;33m\u001b[0m\u001b[0m\n",
      "\u001b[1;31mKeyError\u001b[0m: '86 -เอทตี้ซิกซ์-'"
     ]
    }
   ],
   "source": [
    "dict_item = {}\n",
    "\n",
    "url = f\"https://www.phoenixnext.com/book-series.html\"\n",
    "r = requests.get(url)\n",
    "print(f\"page {i} status {r}\")\n",
    "soup = BeautifulSoup(r.content, \"html.parser\")\n",
    "dd = soup.find(\"dd\")\n",
    "name_list = []\n",
    "name_list_nsp = []\n",
    "for name in dd.find_all(\"a\") :\n",
    "    # print(name)\n",
    "    name.find(\"span\").decompose()\n",
    "    name = name.getText().replace(\"\\n\", \"\")\n",
    "    name_reversed = name[::-1]\n",
    "    idx_space = re.search(\"\\S\", name).span()\n",
    "    idx_space_reversed = re.search(\"\\S\", name_reversed).span()\n",
    "    name = name[idx_space[0]:(len(name) - idx_space_reversed[0])]\n",
    "    name_list.append(name)\n",
    "    name_list_nsp.append(name.replace(\" \", \"\"))\n",
    "\n",
    "for i in range(1, 2) :\n",
    "    url = f\"https://www.phoenixnext.com/book-series.html?p={i}\"\n",
    "    r = requests.get(url)\n",
    "    print(f\"page {i} status {r}\")\n",
    "    soup = BeautifulSoup(r.content, \"html.parser\")\n",
    "    for el in soup.find_all('a', class_=\"product-item-link\") :\n",
    "        title = el.get(\"title\")\n",
    "        link = el.get(\"href\")\n",
    "        type_item, book = title.split(\" \", 1)\n",
    "        try :\n",
    "            name, num_book = book.split(\" เล่ม \")\n",
    "        except ValueError:\n",
    "            name = book\n",
    "            num_book = \"not\"\n",
    "\n",
    "        if type_item not in dict_item :\n",
    "            dict_item[type_item] = {}\n",
    "        name_nsp = name.replace(\" \", \"\")\n",
    "        rem_idx = 0\n",
    "        for j in range(len(name_list_nsp)) :\n",
    "            print(name_nsp)\n",
    "            if (name_list_nsp[j] in name_nsp) and (name_list[j] not in dict_item[type_name]) :\n",
    "                dict_item[type_name][name_list[j]] = {}\n",
    "                rem_idx = j\n",
    "                break\n",
    "\n",
    "        print(dict_item)\n",
    "        if book not in dict_item[type_item][name_list[rem_idx]] :\n",
    "            dict_item[type_item][name_list[rem_idx]][num_book] = link\n",
    "    "
   ]
  },
  {
   "cell_type": "code",
   "execution_count": 135,
   "metadata": {
    "tags": []
   },
   "outputs": [
    {
     "output_type": "stream",
     "name": "stdout",
     "text": [
      "page 1 status <Response [200]>\n86 -เอทตี้ซิกซ์- = 86-เอทตี้ซิกซ์- 0\nCaste Heaven กลรักเกมชนชั้น = CasteHeavenกลรักเกมชนชั้น 1\nColor Recipe = ColorRecipe 2\nEscape Journey = EscapeJourney 3\nEvangelion = Evangelion 4\nFate = Fate 5\nHypnosis Mic = HypnosisMic 6\nKonosuba = Konosuba 7\nLast Embryo = LastEmbryo 8\nLast Round Arthurs = LastRoundArthurs 9\nLiar Liar = LiarLiar 10\nMade in Abyss ผ่าเหวนรก = MadeinAbyssผ่าเหวนรก 11\nOnly Sense Online = OnlySenseOnline 12\nOverlord = Overlord 13\nSolo Leveling = SoloLeveling 14\nUnsung Cinderella = UnsungCinderella 15\nกระซิบรักเป็นทำนองร้องบอกเธอ = กระซิบรักเป็นทำนองร้องบอกเธอ 16\nการปฏิวัติของสาวน้อยหนอนหนังสือ = การปฏิวัติของสาวน้อยหนอนหนังสือ 17\nเกมรักศักดิ์ศรีบุตรีดยุก = เกมรักศักดิ์ศรีบุตรีดยุก 18\nเกมเสี่ยงตาย อันตรายทะลุจอ [Live now] = เกมเสี่ยงตายอันตรายทะลุจอ[Livenow] 19\nเกิดใหม่เป็นนางร้าย จะเลือกทางไหนก็หายนะ = เกิดใหม่เป็นนางร้ายจะเลือกทางไหนก็หายนะ 20\nเกิดใหม่อ้วนเป็นหมูก็ขอสู้บอกรักเธอ = เกิดใหม่อ้วนเป็นหมูก็ขอสู้บอกรักเธอ 21\nโกนหนวดไปทำงาน แล้วกลับบ้านมาพบเธอ = โกนหนวดไปทำงานแล้วกลับบ้านมาพบเธอ 22\nขอต้อนรับสู่ห้องเรียนนิยม(เฉพาะ)ยอดคน = ขอต้อนรับสู่ห้องเรียนนิยม(เฉพาะ)ยอดคน 23\nคณะประพันธกรจรจัด = คณะประพันธกรจรจัด 24\nคุณแม่ที่มีสกิลพื้นฐานเป็นการโจมตีหมู่แถมยังเบิ้ลได้แบบนี้ชอบไหมจ๊ะ = คุณแม่ที่มีสกิลพื้นฐานเป็นการโจมตีหมู่แถมยังเบิ้ลได้แบบนี้ชอบไหมจ๊ะ 25\nใครว่าข้าไม่เหมาะเป็นจอมมาร = ใครว่าข้าไม่เหมาะเป็นจอมมาร 26\nจาง!! สายเลือดกระทะเหล็ก = จาง!!สายเลือดกระทะเหล็ก 27\nชาวบ้านคนนี้ LV999 = ชาวบ้านคนนี้LV999 28\nชีวิตขั้นสุดของสุภาพบุรุษแมงดา = ชีวิตขั้นสุดของสุภาพบุรุษแมงดา 29\nชีวิตไม่ต้องเด่น ขอแค่เป็นเทพในเงา = ชีวิตไม่ต้องเด่นขอแค่เป็นเทพในเงา 30\nชีวิตใหม่ไม่ธรรมดาของราชาปีศาจขี้เหงา = ชีวิตใหม่ไม่ธรรมดาของราชาปีศาจขี้เหงา 31\nซ่อนคมเวทเจ็ดดาบมาร = ซ่อนคมเวทเจ็ดดาบมาร 32\nซาซากิกับมิยาโนะ = ซาซากิกับมิยาโนะ 33\nโดนขู่โดยลูกศิษย์ถือเป็นความผิดมั้ยครับ = โดนขู่โดยลูกศิษย์ถือเป็นความผิดมั้ยครับ 34\nถ้าน่ารักซะอย่าง จะลามกบ้างก็ได้ใช่มั้ยคะ = ถ้าน่ารักซะอย่างจะลามกบ้างก็ได้ใช่มั้ยคะ 35\nทาบิโตะ นักสืบเนตรสัมผัส = ทาบิโตะนักสืบเนตรสัมผัส 36\nทำนองรักสีเทา = ทำนองรักสีเทา 37\nทีมโหดโคตรยมบาล = ทีมโหดโคตรยมบาล 38\nทูตสวรรค์ ทัณฑ์อำมหิต = ทูตสวรรค์ทัณฑ์อำมหิต 39\nน้องชายจอมห้าวปะทะพี่สาวโอตาคุ = น้องชายจอมห้าวปะทะพี่สาวโอตาคุ 40\nน้องโล่สายแทงก์ แกร่งเกินร้อย = น้องโล่สายแทงก์แกร่งเกินร้อย 41\nน้องสาวของผมคืออาจารย์เอโรมังงะ = น้องสาวของผมคืออาจารย์เอโรมังงะ 42\nบันทึกสงครามของยัยเผด็จการ = บันทึกสงครามของยัยเผด็จการ 43\nปีศาจ พี่สาว กับเรื่องราวฤดูร้อนของผม = ปีศาจพี่สาวกับเรื่องราวฤดูร้อนของผม 44\nผมเนี่ยนะ...ชายแปด! = ผมเนี่ยนะ...ชายแปด! 45\nผู้กล้าสุดแกร่ง ขี้ระแวงขั้นวิกฤติ = ผู้กล้าสุดแกร่งขี้ระแวงขั้นวิกฤติ 46\nเผ่าสยิวกับนักรีวิวสายหื่น = เผ่าสยิวกับนักรีวิวสายหื่น 47\nพลันเดอเรอร์ จอมโจรคนเหนือเลข = พลันเดอเรอร์จอมโจรคนเหนือเลข 48\nเพื่อลูกจ๋า ปะป๋าขอลุย = เพื่อลูกจ๋าปะป๋าขอลุย 49\nเภสัชกรเทพสองโลก = เภสัชกรเทพสองโลก 50\nมหาศึกคนชนเทพ = มหาศึกคนชนเทพ 51\nมีศพฝังอยู่ใต้ฝ่าเท้าคุณซากุระโกะ = มีศพฝังอยู่ใต้ฝ่าเท้าคุณซากุระโกะ 52\nแมงมุมแล้วไง ข้องใจเหรอคะ = แมงมุมแล้วไงข้องใจเหรอคะ 53\nยอดคุณน้าจากต่างโลก = ยอดคุณน้าจากต่างโลก 54\nระหว่างอาดาจิกับชิมามูระ = ระหว่างอาดาจิกับชิมามูระ 55\nรู้ตัวอีกทีก็ตกเป็นของผู้ชายอันดับ 1 ที่สาวๆอยากให้กอดไปซะแล้ว = รู้ตัวอีกทีก็ตกเป็นของผู้ชายอันดับ1ที่สาวๆอยากให้กอดไปซะแล้ว 56\nเรื่องฝันปั่นป่วยของผม = เรื่องฝันปั่นป่วยของผม 57\nลิลีผลิบานเพราะเป็นงานหรอกนะคะ! = ลิลีผลิบานเพราะเป็นงานหรอกนะคะ! 58\nโลกคู่ขนานกับตำนานวีรบุรุษที่ถูกลืม = โลกคู่ขนานกับตำนานวีรบุรุษที่ถูกลืม 59\nวิวาห์ของลาล่า = วิวาห์ของลาล่า 60\nวิธีปั้นสาวบ้านให้มาเป็นนางเอกของผม = วิธีปั้นสาวบ้านให้มาเป็นนางเอกของผม 61\nศึกสุดท้ายของเธอกับผมคือจุดเริ่มต้นของโลกใบใหม่ = ศึกสุดท้ายของเธอกับผมคือจุดเริ่มต้นของโลกใบใหม่ 62\nศึกอสูรเหนือเทพ บลัดไซน์ = ศึกอสูรเหนือเทพบลัดไซน์ 63\nสตรีศักดิ์สิทธิ์อิทธิฤทธิ์สารพัดอย่าง = สตรีศักดิ์สิทธิ์อิทธิฤทธิ์สารพัดอย่าง 64\nสืบคดีปริศนา หมอยาตำรับโคมแดง = สืบคดีปริศนาหมอยาตำรับโคมแดง 65\nสุดท้ายก็คือเธอ = สุดท้ายก็คือเธอ 66\nสุภาพบุรุษปีศาจกับทาสรักอสูร = สุภาพบุรุษปีศาจกับทาสรักอสูร 67\nหลานจอมปราชญ์ = หลานจอมปราชญ์ 68\nห้องเรียนจารชน = ห้องเรียนจารชน 69\nห้องเรียนนี้มีแค่ผมที่กลับมาได้ = ห้องเรียนนี้มีแค่ผมที่กลับมาได้ 70\nอ. มาโคโตะ ชินไค = อ.มาโคโตะชินไค 71\nองครักษ์เสื้อแพร = องครักษ์เสื้อแพร 72\nอย่าโหดร้ายกับฉันนัก = อย่าโหดร้ายกับฉันนัก 73\nอาจารย์เวทมนตร์ไม่เอาไหนกับตำนานปราสาทลอยฟ้า = อาจารย์เวทมนตร์ไม่เอาไหนกับตำนานปราสาทลอยฟ้า 74\nอิซากายะต่างโลก โนบุ = อิซากายะต่างโลกโนบุ 75\nอุ๋งจ๋า...หมีรักมาฝาก = อุ๋งจ๋า...หมีรักมาฝาก 76\nอุตส่าห์มีคนมาชอบทั้งที ทำไมต้องเป็นยัยนี่ด้วยนะ = อุตส่าห์มีคนมาชอบทั้งทีทำไมต้องเป็นยัยนี่ด้วยนะ 77\nเอ็กซ์ตัสออนไลน์ = เอ็กซ์ตัสออนไลน์ 78\nแอบรักนาย ผู้ชายไม่แคร์โลก = แอบรักนายผู้ชายไม่แคร์โลก 79\n"
     ]
    }
   ],
   "source": [
    "url = f\"https://www.phoenixnext.com/book-series.html\"\n",
    "r = requests.get(url)\n",
    "print(f\"page {i} status {r}\")\n",
    "soup = BeautifulSoup(r.content, \"html.parser\")\n",
    "dd = soup.find(\"dd\")\n",
    "name_list = []\n",
    "name_list_nsp = []\n",
    "for name in dd.find_all(\"a\") :\n",
    "    # print(name)\n",
    "    name.find(\"span\").decompose()\n",
    "    name = name.getText().replace(\"\\n\", \"\")\n",
    "    name_reversed = name[::-1]\n",
    "    idx_space = re.search(\"\\S\", name).span()\n",
    "    idx_space_reversed = re.search(\"\\S\", name_reversed).span()\n",
    "    name = name[idx_space[0]:(len(name) - idx_space_reversed[0])]\n",
    "    name_list.append(name)\n",
    "    name_list_nsp.append(name.replace(\" \", \"\"))\n",
    "for i in range(len(name_set)) :\n",
    "    print(name_list[i], \"=\", name_list_nsp[i], name_list_nsp.index(name_list_nsp[i]))"
   ]
  },
  {
   "cell_type": "code",
   "execution_count": 38,
   "metadata": {},
   "outputs": [],
   "source": [
    "# save file json\n",
    "with open(\"data.json\", 'w', encoding='utf-8') as f:\n",
    "    json.dump(dict_item, f, ensure_ascii=False, indent=4, sort_keys=True)"
   ]
  },
  {
   "cell_type": "code",
   "execution_count": 136,
   "metadata": {},
   "outputs": [],
   "source": [
    "with open(\"data.json\", encoding=\"utf-8\") as f :\n",
    "    data = json.load(f)"
   ]
  },
  {
   "cell_type": "code",
   "execution_count": 142,
   "metadata": {
    "tags": [
     "outputPrepend"
    ]
   },
   "outputs": [
    {
     "output_type": "stream",
     "name": "stdout",
     "text": [
      "/bx0004-01.html', '3': 'https://www.phoenixnext.com/bx0019-01.html'}\nBox Set อุ๋งจ๋า...หมีรักมาฝาก 4 {'not': 'https://www.phoenixnext.com/bx0029-01.html'}\nCaste Heaven กลรักเกมชนชั้น {'1': 'https://www.phoenixnext.com/mgm0025-01.html', '2 [แถมฟรี! Short Story]': 'https://www.phoenixnext.com/mgm0029-01p.html', '3 [แถมฟรี! Short Story]': 'https://www.phoenixnext.com/mgm0031-01p.html', '4': 'https://www.phoenixnext.com/mgm0035-01.html', '5': 'https://www.phoenixnext.com/mgm0039-01.html', '6': 'https://www.phoenixnext.com/mgm0052-01.html'}\nColor Recipe คัลเลอร์เรซิพี เล่ม 2 (เล่มจบ) [แถมฟรี! ปกพิเศษ เล่ม 1] {'not': 'https://www.phoenixnext.com/mgm0023-01.html'}\nEscape Journey {'1': 'https://www.phoenixnext.com/mgm0024-01.html', '2': 'https://www.phoenixnext.com/mgm0027-01.html', '3 (เล่มจบ)': 'https://www.phoenixnext.com/mgm0030-01.html'}\nMade in Abyss ผ่าเหวนรก {'1': 'https://www.phoenixnext.com/mg0139-01.html', '2': 'https://www.phoenixnext.com/mg0154-01.html', '3': 'https://www.phoenixnext.com/mg0155-01.html', '4': 'https://www.phoenixnext.com/mg0170-01.html', '5': 'https://www.phoenixnext.com/mg0194-01.html', '6': 'https://www.phoenixnext.com/mg0230-01.html'}\nMobile Suit Gundam: Iron-Blooded Orphans {'1': 'https://www.phoenixnext.com/mg0120-01.html', '2': 'https://www.phoenixnext.com/mg0121-01.html', '3': 'https://www.phoenixnext.com/mg0122-01.html'}\nOVERLORD คอมิกอะลาคาร์ต {'1': 'https://www.phoenixnext.com/mg0212-01.html'}\nSMOKIN’ PARADE สโมกกิ้ง พาเหรด {'1': 'https://www.phoenixnext.com/mg0005-01.html', '2 [แถมฟรี! โปสการ์ด]': 'https://www.phoenixnext.com/mg0035-01p.html'}\nSengoku Night Blood ศึกรักนักรบรัตติกาล {'1': 'https://www.phoenixnext.com/mg0041-01.html', '1 [แถมฟรี! โปสการ์ด]': 'https://www.phoenixnext.com/mg0041-01p.html'}\nSpecial Set A รู้ตัวอีกทีก็ตกเป็นของผู้ชายอันดับ 1 ที่สาวๆ อยากให้กอดไปซะแล้ว {'6': 'https://www.phoenixnext.com/bx0039-01.html'}\nSpecial Set B รู้ตัวอีกทีก็ตกเป็นของผู้ชายอันดับ 1 ที่สาวๆ อยากให้กอดไปซะแล้ว {'6': 'https://www.phoenixnext.com/bx0040-01.html'}\nSpecial Set Caste Heaven กลรักเกมชนชั้น {'1': 'https://www.phoenixnext.com/bx0051-01.html'}\nSpecial Set Escape Journey {'1': 'https://www.phoenixnext.com/bx0052-01.html'}\nSpecial Set Made in Abyss ผ่าเหวนรก {'2-3 ': 'https://www.phoenixnext.com/bx0048-01.html'}\nSpecial Set ขอต้อนรับสู่ห้องเรียนนิยม (เฉพาะ) ยอดคน {'7': 'https://www.phoenixnext.com/bx0042-01.html'}\nSpecial Set ขอให้โชคดีมีชัยในโลกแฟนตาซี {'8': 'https://www.phoenixnext.com/bx0038-01.html'}\nSpecial Set ซาซากิกับมิยาโนะ {'4': 'https://www.phoenixnext.com/mgm0053-01p.html'}\nSpecial Set บันทึกสงครามของยัยเผด็จการ {'9-10 ': 'https://www.phoenixnext.com/bx0047-01.html'}\nSpecial Set รู้ตัวอีกทีก็ตกเป็นของผู้ชายอันดับ 1 ที่สาวๆ อยากให้กอดไปซะแล้ว {'5': 'https://www.phoenixnext.com/bx0034-01.html'}\nSpecial Set วิวาห์ของลาล่า {'2': 'https://www.phoenixnext.com/mgm0050-01p.html'}\nSpecial Set อิซากายะต่างโลก โนบุ {'6': 'https://www.phoenixnext.com/bx0031-01.html'}\nSpecial Set ฮิปโนซิสไมค์ -Before The Battle- The Dirty Dawg {'2': 'https://www.phoenixnext.com/bx0087-01.html'}\nSpecial Set ฮิปโนซิสไมค์ -Division Rap Battle- side B.B & M.T.C {'1': 'https://www.phoenixnext.com/bx0061-01.html'}\nUnsung Cinderella เภสัชกรสาวหัวใจแกร่ง {'1 [แถมฟรี! โปสการ์ด]': 'https://www.phoenixnext.com/mg0210-01p.html', '2': 'https://www.phoenixnext.com/mg0221-01.html'}\nWeathering With You ฤดูฝัน ฉันมีเธอ {'1': 'https://www.phoenixnext.com/mg0191-01.html', '1 [ปก Limited Edition]': 'https://www.phoenixnext.com/mg0191-01p.html'}\nyour name. เธอคือ... {'2': 'https://www.phoenixnext.com/mg0002-01.html'}\nกระซิบรักเป็นทำนองร้องบอกเธอ {'1': 'https://www.phoenixnext.com/mgm0042-01.html', '2': 'https://www.phoenixnext.com/mgm0047-01.html'}\nการปฏิวัติของสาวน้อยหนอนหนังสือ ภาค 1 ถ้าไม่มีหนังสือก็ทำขึ้นมาเองเสียเลยสิ! {'1': 'https://www.phoenixnext.com/mg0208-01.html', '2': 'https://www.phoenixnext.com/mg0220-01.html', '3': 'https://www.phoenixnext.com/mg0237-01.html'}\nขบวนการ 3 สี แก๊งนี้มีป่วน {'1 [แถมฟรี! โปสการ์ด]': 'https://www.phoenixnext.com/mg0045-01p.html'}\nขอต้อนรับสู่ห้องเรียนนิยม (เฉพาะ) ยอดคน {'1 (ฉบับปรับปรุงใหม่)': 'https://www.phoenixnext.com/mg0053-02.html', '2 (ฉบับปรับปรุงใหม่)': 'https://www.phoenixnext.com/mg0054-02.html', '3': 'https://www.phoenixnext.com/mg0078-01.html', '4': 'https://www.phoenixnext.com/mg0079-01.html', '5': 'https://www.phoenixnext.com/mg0101-01.html', '6': 'https://www.phoenixnext.com/mg0102-01.html', '7': 'https://www.phoenixnext.com/mg0148-01.html', '8': 'https://www.phoenixnext.com/mg0201-01.html', '9': 'https://www.phoenixnext.com/mg0226-01.html'}\nขอให้ระเบิดตู้มตู้มในโลกแฟนตาซี {'1': 'https://www.phoenixnext.com/mg0051-01.html', '2': 'https://www.phoenixnext.com/mg0052-01.html', '3': 'https://www.phoenixnext.com/mg0076-01.html', '4': 'https://www.phoenixnext.com/mg0077-01.html', '5 (เล่มจบ)': 'https://www.phoenixnext.com/mg0126-01.html'}\nขอให้โชคดีมีชัยในโลกแฟนตาซี {'1': 'https://www.phoenixnext.com/mg0003-01.html', '10': 'https://www.phoenixnext.com/mg0235-01.html', '2': 'https://www.phoenixnext.com/mg0004-01.html', '3': 'https://www.phoenixnext.com/mg0020-01.html', '4': 'https://www.phoenixnext.com/mg0021-01.html', '5': 'https://www.phoenixnext.com/mg0036-01.html', '6': 'https://www.phoenixnext.com/mg0037-01.html', '7': 'https://www.phoenixnext.com/mg0066-01.html', '8': 'https://www.phoenixnext.com/mg0125-01.html', '9': 'https://www.phoenixnext.com/mg0177-01.html'}\nคณะประพันธกรจรจัด DEAD APPLE {'1': 'https://www.phoenixnext.com/mg0080-01.html', '2': 'https://www.phoenixnext.com/mg0166-01.html'}\nจาง!! สายเลือดกระทะเหล็ก {'1': 'https://www.phoenixnext.com/mg0062-01.html', '1-2 [แถมฟรี! โปสการ์ด]': 'https://www.phoenixnext.com/mg0063-01p.html', '2': 'https://www.phoenixnext.com/mg0063-01.html', '3': 'https://www.phoenixnext.com/mg0140-01.html', '4': 'https://www.phoenixnext.com/mg0141-01.html', '5': 'https://www.phoenixnext.com/mg0193-01.html', '6': 'https://www.phoenixnext.com/mg0217-01.html', '7 (เล่มจบ)': 'https://www.phoenixnext.com/mg0236-01.html'}\nชาวบ้านคนนี้ LV999 {'1': 'https://www.phoenixnext.com/mg0087-01.html', '2': 'https://www.phoenixnext.com/mg0114-01.html', '3': 'https://www.phoenixnext.com/mg0115-01.html', '4': 'https://www.phoenixnext.com/mg0167-01.html', '5': 'https://www.phoenixnext.com/mg0198-01.html', '6': 'https://www.phoenixnext.com/mg0219-01.html'}\nชีวิตขั้นสุดของสุภาพบุรุษแมงดา {'1': 'https://www.phoenixnext.com/mg0095-01.html', '2': 'https://www.phoenixnext.com/mg0096-01.html', '3': 'https://www.phoenixnext.com/mg0161-01.html', '4': 'https://www.phoenixnext.com/mg0162-01.html', '5': 'https://www.phoenixnext.com/mg0196-01.html', '6': 'https://www.phoenixnext.com/mg0218-01.html', '7': 'https://www.phoenixnext.com/mg0238-01.html'}\nซาซากิกับมิยาโนะ {'1': 'https://www.phoenixnext.com/mgm0038-01.html', '2': 'https://www.phoenixnext.com/mgm0040-01.html', '3': 'https://www.phoenixnext.com/mgm0046-01.html', '4': 'https://www.phoenixnext.com/mgm0053-01.html'}\nทำนองรักสีเทา {'1': 'https://www.phoenixnext.com/mgm0001-01.html', '2': 'https://www.phoenixnext.com/mgm0002-01.html', '3': 'https://www.phoenixnext.com/mgm0003-01.html', '4 (เล่มจบ) [แถมฟรี! Short Story]': 'https://www.phoenixnext.com/mgm0032-01p.html'}\nทีมโหดโคตรยมบาล {'1': 'https://www.phoenixnext.com/mg0105-01.html', '2': 'https://www.phoenixnext.com/mg0106-01.html', '3 (เล่มจบ)': 'https://www.phoenixnext.com/mg0160-01.html'}\nทูตสวรรค์ ทัณฑ์อำมหิต {'1': 'https://www.phoenixnext.com/mg0028-01.html', '1+2 [แถมฟรี! คาแรคเตอร์การ์ด]': 'https://www.phoenixnext.com/mg0029-01p.html', '10': 'https://www.phoenixnext.com/mg0240-01.html', '2': 'https://www.phoenixnext.com/mg0029-01.html', '3': 'https://www.phoenixnext.com/mg0047-01.html', '4': 'https://www.phoenixnext.com/mg0048-01.html', '5': 'https://www.phoenixnext.com/mg0073-01.html', '6 [แถมฟรี! คาแรคเตอร์การ์ด]': 'https://www.phoenixnext.com/mg0074-01p.html', '7': 'https://www.phoenixnext.com/mg0075-01.html', '8': 'https://www.phoenixnext.com/mg0108-01.html', '9': 'https://www.phoenixnext.com/mg0147-01.html'}\nทูตสวรรค์ ทัณฑ์อำมหิต EP.0 {'1': 'https://www.phoenixnext.com/mg0092-01.html', '2': 'https://www.phoenixnext.com/mg0093-01.html', '3': 'https://www.phoenixnext.com/mg0164-01.html'}\nน้องชายจอมห้าวปะทะพี่สาวโอตาคุ {'1': 'https://www.phoenixnext.com/mg0187-01.html', '2': 'https://www.phoenixnext.com/mg0216-01.html'}\nน้องสาวของผมคืออาจารย์เอโรมังงะ {'1': 'https://www.phoenixnext.com/mg0043-01.html', '2': 'https://www.phoenixnext.com/mg0044-01.html', '3': 'https://www.phoenixnext.com/mg0071-01.html', '4 [แถมฟรี! โปสการ์ด]': 'https://www.phoenixnext.com/mg0072-01p.html', '5': 'https://www.phoenixnext.com/mg0129-01.html', '6': 'https://www.phoenixnext.com/mg0130-01.html'}\nบันทึกคดีเร้นลับของลอร์ดเอลเมลลอยที่ 2 {'1': 'https://www.phoenixnext.com/mg0137-01.html', '2': 'https://www.phoenixnext.com/mg0200-01.html'}\nบันทึกสงครามของยัยเผด็จการ {'1': 'https://www.phoenixnext.com/mg0024-01.html', '10': 'https://www.phoenixnext.com/mg0158-01.html', '11': 'https://www.phoenixnext.com/mg0176-01.html', '12': 'https://www.phoenixnext.com/mg0179-01.html', '2': 'https://www.phoenixnext.com/mg0025-01.html', '3': 'https://www.phoenixnext.com/mg0049-01.html', '4': 'https://www.phoenixnext.com/mg0050-01.html', '5': 'https://www.phoenixnext.com/mg0088-01.html', '6': 'https://www.phoenixnext.com/mg0089-01.html', '7': 'https://www.phoenixnext.com/mg0123-01.html', '8': 'https://www.phoenixnext.com/mg0124-01.html', '9': 'https://www.phoenixnext.com/mg0157-01.html'}\nบันทึกเมนูอาหารของยัยเผด็จการ {'1': 'https://www.phoenixnext.com/mg0098-01.html', '2': 'https://www.phoenixnext.com/mg0159-01.html'}\nปีศาจ พี่สาว กับเรื่องราวฤดูร้อนของผม {'1': 'https://www.phoenixnext.com/mg0026-01.html', '2': 'https://www.phoenixnext.com/mg0027-01.html', '3': 'https://www.phoenixnext.com/mg0109-01.html', '4': 'https://www.phoenixnext.com/mg0213-01.html'}\nผ่ามิติแหกกฎมนตรา {'1': 'https://www.phoenixnext.com/mg0083-01.html', '2': 'https://www.phoenixnext.com/mg0084-01.html', '3': 'https://www.phoenixnext.com/mg0239-01.html'}\nพลันเดอเรอร์ จอมโจรคนเหนือเลข {'1': 'https://www.phoenixnext.com/mg0055-01.html', '2': 'https://www.phoenixnext.com/mg0056-01.html', '3': 'https://www.phoenixnext.com/mg0181-01.html', '4': 'https://www.phoenixnext.com/mg0190-01.html'}\nมหาศึกคนชนเทพ {'2': 'https://www.phoenixnext.com/mg0173-01.html', '3': 'https://www.phoenixnext.com/mg0189-01.html', '4': 'https://www.phoenixnext.com/mg0203-01.html', '6': 'https://www.phoenixnext.com/mg0231-01.html', '7': 'https://www.phoenixnext.com/mg0232-01.html'}\nมหาศึกคนชนเทพ กรุตำนาน ลิโป้ ขุนพลผงาดฟ้า {'1': 'https://www.phoenixnext.com/mg0247-01.html', '2': 'https://www.phoenixnext.com/mg0248-01.html'}\nยอดคุณน้าจากต่างโลก {'1': 'https://www.phoenixnext.com/mg0243-01.html', '2': 'https://www.phoenixnext.com/mg0244-01.html'}\nรู้ตัวอีกทีก็ตกเป็นของผู้ชายอันดับ 1 ที่สาวๆ อยากให้กอดไปซะแล้ว {'2': 'https://www.phoenixnext.com/mgm0011-01.html', '3': 'https://www.phoenixnext.com/mgm0014-01.html', '4': 'https://www.phoenixnext.com/mgm0015-01.html', '5': 'https://www.phoenixnext.com/mgm0017-01.html', '6': 'https://www.phoenixnext.com/mgm0018-01.html', '7': 'https://www.phoenixnext.com/mgm0045-01.html'}\nรู้เฟื่องเรื่องเฟต! Fate/Grand Order {'2': 'https://www.phoenixnext.com/mg0175-01.html'}\nลิลี่ผลิบานเพราะเป็นงานหรอกนะคะ! {'1': 'https://www.phoenixnext.com/mgm0043-01.html', '2': 'https://www.phoenixnext.com/mgm0048-01.html', '3': 'https://www.phoenixnext.com/mgm0051-01.html'}\nวิวาห์ของลาล่า {'1': 'https://www.phoenixnext.com/mgm0049-01.html', '2': 'https://www.phoenixnext.com/mgm0050-01.html'}\nสุดท้ายก็คือเธอ {'1': 'https://www.phoenixnext.com/mgm0004-01.html', '2': 'https://www.phoenixnext.com/mgm0005-01.html', '3': 'https://www.phoenixnext.com/mgm0006-01.html', '4': 'https://www.phoenixnext.com/mgm0007-01.html', '5': 'https://www.phoenixnext.com/mgm0008-01.html', '6': 'https://www.phoenixnext.com/mgm0016-01.html', '7': 'https://www.phoenixnext.com/mgm0021-01.html', '8 (เล่มจบ)': 'https://www.phoenixnext.com/mgm0036-01.html'}\nสุภาพบุรุษปีศาจกับทาสรักอสูร {'1': 'https://www.phoenixnext.com/mgm0012-01.html', '2': 'https://www.phoenixnext.com/mgm0022-01.html', '3': 'https://www.phoenixnext.com/mgm0044-01.html'}\nหลานจอมปราชญ์ {'1': 'https://www.phoenixnext.com/mg0097-01.html', '10': 'https://www.phoenixnext.com/mg0209-01.html', '11': 'https://www.phoenixnext.com/mg0245-01.html', '2': 'https://www.phoenixnext.com/mg0118-01.html', '3': 'https://www.phoenixnext.com/mg0119-01.html', '4': 'https://www.phoenixnext.com/mg0133-01.html', '5': 'https://www.phoenixnext.com/mg0134-01.html', '6': 'https://www.phoenixnext.com/mg0143-01.html', '7': 'https://www.phoenixnext.com/mg0152-01.html', '8': 'https://www.phoenixnext.com/mg0163-01.html', '9': 'https://www.phoenixnext.com/mg0180-01.html'}\nอย่าโหดร้ายกับฉันนัก {'1': 'https://www.phoenixnext.com/mgm0020-01.html', '2': 'https://www.phoenixnext.com/mgm0028-01.html', '3': 'https://www.phoenixnext.com/mgm0034-01.html', '4': 'https://www.phoenixnext.com/mgm0037-01.html'}\nอาจารย์เวทมนตร์ไม่เอาไหนกับตำนานปราสาทลอยฟ้า {'1': 'https://www.phoenixnext.com/mg0057-01.html', '1-2 [แถมฟรี! ที่คั่นหนังสือ]': 'https://www.phoenixnext.com/mg0058-01p.html', '2': 'https://www.phoenixnext.com/mg0058-01.html', '3': 'https://www.phoenixnext.com/mg0090-01.html', '4': 'https://www.phoenixnext.com/mg0091-01.html', '5': 'https://www.phoenixnext.com/mg0241-01.html'}\nอิซากายะต่างโลก โนบุ {'1': 'https://www.phoenixnext.com/mg0030-01.html', '1-3 [แถมฟรี! ที่รองแก้ว 2 ลาย]': 'https://www.phoenixnext.com/mg0032-01p.html', '10 [แถมฟรี! โปสการ์ด]': 'https://www.phoenixnext.com/mg0225-01p.html', '2': 'https://www.phoenixnext.com/mg0031-01.html', '3': 'https://www.phoenixnext.com/mg0032-01.html', '4': 'https://www.phoenixnext.com/mg0067-01.html', '4-5 [แถมฟรี! ที่รองแก้ว]': 'https://www.phoenixnext.com/mg0068-01p.html', '5': 'https://www.phoenixnext.com/mg0068-01.html', '6': 'https://www.phoenixnext.com/mg0099-01.html', '7 [แถมฟรี! Paper Craft]': 'https://www.phoenixnext.com/bx0036-01.html', '8': 'https://www.phoenixnext.com/mg0169-01.html', '9': 'https://www.phoenixnext.com/mg0184-01.html'}\nอุ๋งจ๋า...หมีรักมาฝาก {'1': 'https://www.phoenixnext.com/mg0016-01.html', '2': 'https://www.phoenixnext.com/mg0017-01.html', '3': 'https://www.phoenixnext.com/mg0042-01.html', '4': 'https://www.phoenixnext.com/mg0086-01.html'}\nฮาคุเมกับมิโคจิ           {'1': 'https://www.phoenixnext.com/mg0116-01.html'}\nฮิปโนซิสไมค์ -Before The Battle- The Dirty Dawg {'1 [แถมฟรี! ปกพิเศษ และ Bromide 1 ใบ (สุ่ม)]': 'https://www.phoenixnext.com/mg0185-01p.html', '2': 'https://www.phoenixnext.com/mg0233-01.html'}\nฮิปโนซิสไมค์ -Division Rap Battle- side B.B & M.T.C {'1': 'https://www.phoenixnext.com/mg0186-01.html', '2 [แถมฟรี! โปสการ์ดทีม B.B]': 'https://www.phoenixnext.com/mg0234-02p.html', '2 [แถมฟรี! โปสการ์ดทีม M.T.C]': 'https://www.phoenixnext.com/mg0234-03p.html'}\nเกมเสี่ยงตาย อันตรายทะลุจอ [Live Now] {'1': 'https://www.phoenixnext.com/mg0110-01.html', '2': 'https://www.phoenixnext.com/mg0111-01.html', '3': 'https://www.phoenixnext.com/mg0127-01.html', '4': 'https://www.phoenixnext.com/mg0128-01.html', '5': 'https://www.phoenixnext.com/mg0156-01.html', '6': 'https://www.phoenixnext.com/mg0195-01.html'}\nเกิดใหม่เป็นนางร้าย จะเลือกทางไหนก็หายนะ {'1': 'https://www.phoenixnext.com/mg0211-01.html', '2': 'https://www.phoenixnext.com/mg0227-01.html', '3': 'https://www.phoenixnext.com/mg0228-01.html'}\nเผ่าสยิวกับนักรีวิวสายหื่น {'1': 'https://www.phoenixnext.com/mg0100-01.html', '2': 'https://www.phoenixnext.com/mg0142-01.html', '3': 'https://www.phoenixnext.com/mg0188-01.html'}\nเพื่อลูกจ๋า ปะป๋าขอลุย {'1': 'https://www.phoenixnext.com/mg0069-01.html', '2': 'https://www.phoenixnext.com/mg0070-01.html', '3 [แถมฟรี! Short Story (Authorized Store)] ': 'https://www.phoenixnext.com/mg0145-02p.html', '4': 'https://www.phoenixnext.com/mg0165-01.html', '5 [แถมฟรี! Special Illust Card]': 'https://www.phoenixnext.com/mg0246-01p.html'}\nเฟต/อโพคริฟา {'1': 'https://www.phoenixnext.com/mg0033-01.html', '2': 'https://www.phoenixnext.com/mg0059-01.html', '2-3 [แถมฟรี! โปสการ์ด]': 'https://www.phoenixnext.com/mg0059-01p.html', '3': 'https://www.phoenixnext.com/mg0060-01.html', '4': 'https://www.phoenixnext.com/mg0081-01.html', '5': 'https://www.phoenixnext.com/mg0082-01.html', '6': 'https://www.phoenixnext.com/mg0131-01.html', '7': 'https://www.phoenixnext.com/mg0206-01.html'}\nเฟต/แกรนด์ออร์เดอร์ คอมิกอะลาคาร์ต {'1': 'https://www.phoenixnext.com/mg0103-01.html', '2': 'https://www.phoenixnext.com/mg0104-01.html', '3': 'https://www.phoenixnext.com/mg0135-01.html', '4': 'https://www.phoenixnext.com/mg0144-01.html', '5': 'https://www.phoenixnext.com/mg0151-01.html', '6': 'https://www.phoenixnext.com/mg0168-01.html', '7': 'https://www.phoenixnext.com/mg0192-01.html', '8': 'https://www.phoenixnext.com/mg0202-01.html', '9': 'https://www.phoenixnext.com/mg0223-01.html'}\nเฟต/แกรนด์ออร์เดอร์ คาลเดียสแคร็ป รวมผลงานของนาคาทานิ {'not': 'https://www.phoenixnext.com/mg0149-01.html'}\nเฟต/แกรนด์ออร์เดอร์ ชาโตดิฟ รวมผลงานของโคสุเกะ คุโรเสะ {'not': 'https://www.phoenixnext.com/mg0150-01.html'}\nเฟต/แกรนด์ออร์เดอร์ เอพิกออฟเรมแนนต์ ซิงกูลาริตี้ย่อย EX แดนสวรรค์ไซเบอร์ทะเลลึก SE.RA.PH {'1': 'https://www.phoenixnext.com/mg0183-01.html'}\nเฟต/แกรนด์ออร์เดอร์ เอพิกออฟเรมแนนต์ ซิงกูลาริตี้ย่อย II โลกใต้พิภพแห่งตำนาน อาการ์ธา สตรีแห่งอาการ์ธา {'1': 'https://www.phoenixnext.com/mg0171-01.html'}\nเภสัชกรเทพสองโลก {'1': 'https://www.phoenixnext.com/mg0205-01.html', '2': 'https://www.phoenixnext.com/mg0224-01.html'}\nเมนูวันนี้ของบ้านเอมิยะ {'1': 'https://www.phoenixnext.com/mg0034-01.html', '2 [แถมฟรี! ที่คั่นหนังสือ]': 'https://www.phoenixnext.com/mg0061-01p.html', '3': 'https://www.phoenixnext.com/mg0132-01.html', '4': 'https://www.phoenixnext.com/mg0199-01.html'}\nเรื่องรักวายๆ ผมขอบายได้มั้ยครับ {'1': 'https://www.phoenixnext.com/mgm0033-01.html'}\nเลิฟไลฟ์! ซันไชน์!! {'1': 'https://www.phoenixnext.com/mg0040-01.html', '1 [แถมฟรี! โปสการ์ด]': 'https://www.phoenixnext.com/mg0040-01p.html', '2': 'https://www.phoenixnext.com/mg0107-01.html'}\nเอแคลร์ blanche รวมเรื่องสั้นในวันที่กลีบลิลี่โปรยปราย {'2': 'https://www.phoenixnext.com/mgm0019-01.html'}\nเอแคลร์ bleue รวมเรื่องสั้นในวันที่กลีบลิลี่โปรยปราย {'3': 'https://www.phoenixnext.com/mgm0041-01.html'}\nเอแคลร์ รวมเรื่องสั้นในวันที่กลีบลิลี่โปรยปราย {'1': 'https://www.phoenixnext.com/mgm0009-01.html'}\nแมงมุมแล้วไง ข้องใจเหรอคะ {'1': 'https://www.phoenixnext.com/mg0064-01.html', '1-2 [แถมฟรี! ที่แขวนประตู]': 'https://www.phoenixnext.com/mg0065-01p.html', '2': 'https://www.phoenixnext.com/mg0065-01.html', '3': 'https://www.phoenixnext.com/mg0112-01.html', '4': 'https://www.phoenixnext.com/mg0113-01.html', '5': 'https://www.phoenixnext.com/mg0146-01.html', '6': 'https://www.phoenixnext.com/mg0153-01.html', '7': 'https://www.phoenixnext.com/mg0174-01.html', '8': 'https://www.phoenixnext.com/mg0229-01.html'}\nแอบรักนาย ผู้ชายไม่แคร์โลก {'1': 'https://www.phoenixnext.com/mg0214-01.html'}\nโอเวอร์ลอร์ด ราชันอมต๊อง {'1': 'https://www.phoenixnext.com/mg0207-01.html'}\nใครว่าข้าไม่เหมาะเป็นจอมมาร {'1': 'https://www.phoenixnext.com/mg0178-01.html', '2': 'https://www.phoenixnext.com/mg0197-01.html', '3': 'https://www.phoenixnext.com/mg0215-01.html'}\nไม่เป็นนางฟ้าได้ไหมเนี่ย {'4': 'https://www.phoenixnext.com/mg0038-01.html', '4-5 [แถมฟรี! ที่คั่นหนังสือ]': 'https://www.phoenixnext.com/mg0039-01p.html', '5': 'https://www.phoenixnext.com/mg0039-01.html', '6': 'https://www.phoenixnext.com/mg0085-01.html', '7': 'https://www.phoenixnext.com/mg0136-01.html'}\n(N)\nSolo Leveling {'1': 'https://www.phoenixnext.com/ln0189-01.html', '2': 'https://www.phoenixnext.com/ln0216-01.html', '3': 'https://www.phoenixnext.com/ln0237-01.html', '4': 'https://www.phoenixnext.com/ln0247-01.html'}\nSpecial Set Solo Leveling {'3': 'https://www.phoenixnext.com/bx0080-01.html', '4 [Hoodie Jacket Size L]': 'https://www.phoenixnext.com/bx0088-02.html', '4 [Hoodie Jacket Size M]': 'https://www.phoenixnext.com/bx0088-01.html'}\n"
     ]
    }
   ],
   "source": [
    "for type_item in data :\n",
    "    print(type_item)\n",
    "    for name in data[type_item] :\n",
    "        print(name, data[type_item][name])"
   ]
  },
  {
   "cell_type": "code",
   "execution_count": null,
   "metadata": {},
   "outputs": [],
   "source": []
  }
 ]
}